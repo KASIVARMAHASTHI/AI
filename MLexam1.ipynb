{
 "cells": [
  {
   "cell_type": "code",
   "execution_count": 6,
   "id": "c5d49136-fb9f-4e0e-b810-f6cc8688ec23",
   "metadata": {},
   "outputs": [],
   "source": [
    "#Question -3\n",
    "\n",
    "from sklearn.linear_model import LinearRegression\n",
    "import matplotlib.pyplot as plt\n",
    "import numpy as np"
   ]
  },
  {
   "cell_type": "code",
   "execution_count": 7,
   "id": "ec5f2df3-4fe2-48bd-9cef-0da328fbf70e",
   "metadata": {},
   "outputs": [],
   "source": [
    "# Data\n",
    "x = np.array([1, 2, 3, 4, 5, 6]).reshape(-1, 1)\n",
    "y = np.array([36, 40, 39, 37, 40, 42])"
   ]
  },
  {
   "cell_type": "code",
   "execution_count": 9,
   "id": "48d60fd7-7891-4eb3-80d3-177fc098a07f",
   "metadata": {},
   "outputs": [
    {
     "data": {
      "text/html": [
       "<style>#sk-container-id-1 {color: black;}#sk-container-id-1 pre{padding: 0;}#sk-container-id-1 div.sk-toggleable {background-color: white;}#sk-container-id-1 label.sk-toggleable__label {cursor: pointer;display: block;width: 100%;margin-bottom: 0;padding: 0.3em;box-sizing: border-box;text-align: center;}#sk-container-id-1 label.sk-toggleable__label-arrow:before {content: \"▸\";float: left;margin-right: 0.25em;color: #696969;}#sk-container-id-1 label.sk-toggleable__label-arrow:hover:before {color: black;}#sk-container-id-1 div.sk-estimator:hover label.sk-toggleable__label-arrow:before {color: black;}#sk-container-id-1 div.sk-toggleable__content {max-height: 0;max-width: 0;overflow: hidden;text-align: left;background-color: #f0f8ff;}#sk-container-id-1 div.sk-toggleable__content pre {margin: 0.2em;color: black;border-radius: 0.25em;background-color: #f0f8ff;}#sk-container-id-1 input.sk-toggleable__control:checked~div.sk-toggleable__content {max-height: 200px;max-width: 100%;overflow: auto;}#sk-container-id-1 input.sk-toggleable__control:checked~label.sk-toggleable__label-arrow:before {content: \"▾\";}#sk-container-id-1 div.sk-estimator input.sk-toggleable__control:checked~label.sk-toggleable__label {background-color: #d4ebff;}#sk-container-id-1 div.sk-label input.sk-toggleable__control:checked~label.sk-toggleable__label {background-color: #d4ebff;}#sk-container-id-1 input.sk-hidden--visually {border: 0;clip: rect(1px 1px 1px 1px);clip: rect(1px, 1px, 1px, 1px);height: 1px;margin: -1px;overflow: hidden;padding: 0;position: absolute;width: 1px;}#sk-container-id-1 div.sk-estimator {font-family: monospace;background-color: #f0f8ff;border: 1px dotted black;border-radius: 0.25em;box-sizing: border-box;margin-bottom: 0.5em;}#sk-container-id-1 div.sk-estimator:hover {background-color: #d4ebff;}#sk-container-id-1 div.sk-parallel-item::after {content: \"\";width: 100%;border-bottom: 1px solid gray;flex-grow: 1;}#sk-container-id-1 div.sk-label:hover label.sk-toggleable__label {background-color: #d4ebff;}#sk-container-id-1 div.sk-serial::before {content: \"\";position: absolute;border-left: 1px solid gray;box-sizing: border-box;top: 0;bottom: 0;left: 50%;z-index: 0;}#sk-container-id-1 div.sk-serial {display: flex;flex-direction: column;align-items: center;background-color: white;padding-right: 0.2em;padding-left: 0.2em;position: relative;}#sk-container-id-1 div.sk-item {position: relative;z-index: 1;}#sk-container-id-1 div.sk-parallel {display: flex;align-items: stretch;justify-content: center;background-color: white;position: relative;}#sk-container-id-1 div.sk-item::before, #sk-container-id-1 div.sk-parallel-item::before {content: \"\";position: absolute;border-left: 1px solid gray;box-sizing: border-box;top: 0;bottom: 0;left: 50%;z-index: -1;}#sk-container-id-1 div.sk-parallel-item {display: flex;flex-direction: column;z-index: 1;position: relative;background-color: white;}#sk-container-id-1 div.sk-parallel-item:first-child::after {align-self: flex-end;width: 50%;}#sk-container-id-1 div.sk-parallel-item:last-child::after {align-self: flex-start;width: 50%;}#sk-container-id-1 div.sk-parallel-item:only-child::after {width: 0;}#sk-container-id-1 div.sk-dashed-wrapped {border: 1px dashed gray;margin: 0 0.4em 0.5em 0.4em;box-sizing: border-box;padding-bottom: 0.4em;background-color: white;}#sk-container-id-1 div.sk-label label {font-family: monospace;font-weight: bold;display: inline-block;line-height: 1.2em;}#sk-container-id-1 div.sk-label-container {text-align: center;}#sk-container-id-1 div.sk-container {/* jupyter's `normalize.less` sets `[hidden] { display: none; }` but bootstrap.min.css set `[hidden] { display: none !important; }` so we also need the `!important` here to be able to override the default hidden behavior on the sphinx rendered scikit-learn.org. See: https://github.com/scikit-learn/scikit-learn/issues/21755 */display: inline-block !important;position: relative;}#sk-container-id-1 div.sk-text-repr-fallback {display: none;}</style><div id=\"sk-container-id-1\" class=\"sk-top-container\"><div class=\"sk-text-repr-fallback\"><pre>LinearRegression()</pre><b>In a Jupyter environment, please rerun this cell to show the HTML representation or trust the notebook. <br />On GitHub, the HTML representation is unable to render, please try loading this page with nbviewer.org.</b></div><div class=\"sk-container\" hidden><div class=\"sk-item\"><div class=\"sk-estimator sk-toggleable\"><input class=\"sk-toggleable__control sk-hidden--visually\" id=\"sk-estimator-id-1\" type=\"checkbox\" checked><label for=\"sk-estimator-id-1\" class=\"sk-toggleable__label sk-toggleable__label-arrow\">LinearRegression</label><div class=\"sk-toggleable__content\"><pre>LinearRegression()</pre></div></div></div></div></div>"
      ],
      "text/plain": [
       "LinearRegression()"
      ]
     },
     "execution_count": 9,
     "metadata": {},
     "output_type": "execute_result"
    }
   ],
   "source": [
    "# Fit a linear regression model\n",
    "model = LinearRegression()\n",
    "model.fit(x, y)\n"
   ]
  },
  {
   "cell_type": "code",
   "execution_count": 10,
   "id": "c92fb3d8-465e-41d5-8a98-1dce8aacd190",
   "metadata": {},
   "outputs": [
    {
     "name": "stdout",
     "output_type": "stream",
     "text": [
      "Regression line: y = 0.80x + 36.20\n"
     ]
    }
   ],
   "source": [
    "# 3(a) The Equation of the regression line:\n",
    "# s=slope , i=intercept\n",
    "s = model.coef_[0]\n",
    "i = model.intercept_\n",
    "print(f\"Regression line: y = {s:.2f}x + {i:.2f}\")\n"
   ]
  },
  {
   "cell_type": "code",
   "execution_count": 11,
   "id": "0c16bee1-882c-44a5-b747-27980e9ef689",
   "metadata": {},
   "outputs": [
    {
     "data": {
      "image/png": "[encoded data removed]",
      "text/plain": [
       "<Figure size 640x480 with 1 Axes>"
      ]
     },
     "metadata": {},
     "output_type": "display_data"
    }
   ],
   "source": [
    "\n",
    "# 3(b) Plot the data points along with the regression line. Include axes labels, legends, title, and use\n",
    "# different colors of data and regression. \n",
    "plt.scatter(x, y, color='green', label='Data')#labelling the data and setting the ccolor as green.\n",
    "plt.plot(x, model.predict(x), color='violet', label='Regression Line')#setting regression line color as violet.\n",
    "plt.xlabel('x')#plotting x.\n",
    "plt.ylabel('y')#plotting y.\n",
    "plt.legend()\n",
    "plt.title('Linear Regression') #Its for the title representation.\n",
    "plt.show()#displaying the output.\n",
    "\n",
    "#Here in the output given data from the question is represented as data in the linear regression."
   ]
  },
  {
   "cell_type": "code",
   "execution_count": null,
   "id": "618584f2-0957-4e30-9820-a63e5198f9fb",
   "metadata": {},
   "outputs": [],
   "source": [
    "#3(c) How good is this regression in modeling the data.\n",
    "To know how good the regression is, we need to  calculate the  R-squared and mean squared error (MSE).\n"
   ]
  },
  {
   "cell_type": "code",
   "execution_count": null,
   "id": "c0f6c76e-298e-49f5-b50d-1ac14d67d863",
   "metadata": {},
   "outputs": [],
   "source": [
    "#3(d)one use of the regression model. \n",
    "One use of the regression model: One possible use is to predicting  the value of \"y\" for new values of \"x\". \n",
    "we can make predictions for unseen values of 'x' using the trained model.\n",
    "Example-predictions....!"
   ]
  },
  {
   "cell_type": "code",
   "execution_count": null,
   "id": "e0c868b3-c3cb-48b1-9ee2-deda07b666b1",
   "metadata": {},
   "outputs": [],
   "source": [
    "#Question -1\n",
    "p(D|A)=5/50 #given defective parts probability for A,B,C D.\n",
    "p(D|B)=4/50\n",
    "p(D|C)=8/50\n",
    "p(D|D)=3/50\n",
    "p(A)=1/4 #selecting probabilities out of 4 --1/4.\n",
    "p(B)=1/4\n",
    "p(C)=1/4\n",
    "p(D)=1/4 \n"
   ]
  },
  {
   "cell_type": "code",
   "execution_count": 1,
   "id": "7c135a07-43b1-4e3e-a6bb-471c5e86c7d2",
   "metadata": {},
   "outputs": [
    {
     "data": {
      "text/plain": [
       "0.25"
      ]
     },
     "execution_count": 1,
     "metadata": {},
     "output_type": "execute_result"
    }
   ],
   "source": [
    "p=(1-(5/50))*(1/4)/((1-(5/50))*(1/4)+(1-(4/50))*(1/4)+(1-(8/50))*(1/4)+(1-(3/50))*(1/4))\n",
    "p"
   ]
  },
  {
   "cell_type": "code",
   "execution_count": null,
   "id": "0cdc4a79-bc9d-4edf-a613-3a724c120f81",
   "metadata": {},
   "outputs": [],
   "source": [
    "#question -2\n",
    "\n",
    "P(Vaccinated)=  A person was vaccinated for the flu.\n",
    "\n",
    "P(Not Vaccinated)= A person was not vaccinated for the flu.\n",
    "Evidence:\n",
    "\n",
    "P(Flu)=  A person has the flu.\n",
    "Posterior:\n",
    "\n",
    "P(Vaccinated∣Flu)= A person was vaccinated given they have the flu.\n",
    "\n",
    "P(Not Vaccinated∣Flu)=  A person was not vaccinated given they have the flu.\n",
    "Linear Regression:\n"
   ]
  }
 ],
 "metadata": {
  "kernelspec": {
   "display_name": "Python 3 (ipykernel)",
   "language": "python",
   "name": "python3"
  },
  "language_info": {
   "codemirror_mode": {
    "name": "ipython",
    "version": 3
   },
   "file_extension": ".py",
   "mimetype": "text/x-python",
   "name": "python",
   "nbconvert_exporter": "python",
   "pygments_lexer": "ipython3",
   "version": "3.11.5"
  }
 },
 "nbformat": 4,
 "nbformat_minor": 5
}
